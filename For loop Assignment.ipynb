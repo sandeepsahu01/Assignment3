{
 "cells": [
  {
   "cell_type": "markdown",
   "id": "e681a55b-fa9c-49aa-ad93-9b3b4ed1fdf5",
   "metadata": {},
   "source": [
    "1. Write a Python program to print the numbers from 1 to 10 using a `for` loop."
   ]
  },
  {
   "cell_type": "code",
   "execution_count": 5,
   "id": "ea0e03c6-3b40-4834-858f-f7220adb3fbe",
   "metadata": {},
   "outputs": [
    {
     "name": "stdout",
     "output_type": "stream",
     "text": [
      "1 2 3 4 5 6 7 8 9 10 "
     ]
    }
   ],
   "source": [
    "for i in range(1,11):\n",
    "    print(i,end=' ')"
   ]
  },
  {
   "cell_type": "markdown",
   "id": "68e33c37-0360-4b71-9b31-8c17c1ff76fb",
   "metadata": {},
   "source": [
    "2. Create a program that calculates the sum of all numbers in a list using a `for` loop."
   ]
  },
  {
   "cell_type": "code",
   "execution_count": 6,
   "id": "91735def-34b4-47ef-bdc3-eb0eff7d7867",
   "metadata": {},
   "outputs": [
    {
     "name": "stdout",
     "output_type": "stream",
     "text": [
      "sum of elements in the list:  75\n"
     ]
    }
   ],
   "source": [
    "total=0\n",
    "#creating a list\n",
    "\n",
    "list1=[14,15,9,32,5]\n",
    "# Iterate each element in list\n",
    "# and add them in variable total\n",
    "for ele in range(0,len(list1)):\n",
    "    total=total+list1[ele]\n",
    "# printing total value\n",
    "print(\"sum of elements in the list: \",total)"
   ]
  },
  {
   "cell_type": "markdown",
   "id": "15457b75-0531-42d4-8b62-7561511b2cf0",
   "metadata": {},
   "source": [
    "3. Write a program to print the characters of a string in reverse order using a `for` loop."
   ]
  },
  {
   "cell_type": "code",
   "execution_count": 14,
   "id": "b6daadaa-e90a-4d2b-9059-ee930a58c697",
   "metadata": {},
   "outputs": [
    {
     "name": "stdout",
     "output_type": "stream",
     "text": [
      "reverse string id: sllikSWP\n"
     ]
    }
   ],
   "source": [
    "def reverse(s):\n",
    "    str=\"\"\n",
    "    for i in s:\n",
    "        str= i + str\n",
    "    return str\n",
    "s = \"PWSkills\"\n",
    "print(\"reverse string id:\" ,end=\" \")\n",
    "print(reverse(s))\n",
    "    "
   ]
  },
  {
   "cell_type": "markdown",
   "id": "ef1653d0-4a19-4737-a2b3-e28c4d9e9e8d",
   "metadata": {},
   "source": [
    "4. Develop a program that finds the factorial of a given number using a `for` loop."
   ]
  },
  {
   "cell_type": "code",
   "execution_count": 16,
   "id": "da1908da-d708-4c8d-8360-cc3268de5aff",
   "metadata": {},
   "outputs": [
    {
     "name": "stdout",
     "output_type": "stream",
     "text": [
      "Factorial of 5 is 120\n"
     ]
    }
   ],
   "source": [
    "def factorial(n):\n",
    "       \n",
    "    res = 1\n",
    "      \n",
    "    for i in range(2, n+1):\n",
    "        res *= i\n",
    "    return res\n",
    " \n",
    "num = 5\n",
    "print(\"Factorial of\", num, \"is\",\n",
    "factorial(num))"
   ]
  },
  {
   "cell_type": "markdown",
   "id": "a9bde2c5-c114-45eb-9578-3bcb2bca35a0",
   "metadata": {},
   "source": [
    "5. Create a program to print the multiplication table of a given number using a `for` loop."
   ]
  },
  {
   "cell_type": "code",
   "execution_count": 21,
   "id": "bff74b01-0ab7-4f76-9953-22ef4a7a39e5",
   "metadata": {},
   "outputs": [
    {
     "name": "stdout",
     "output_type": "stream",
     "text": [
      "8 x 1 = 8\n",
      "8 x 2 = 16\n",
      "8 x 3 = 24\n",
      "8 x 4 = 32\n",
      "8 x 5 = 40\n",
      "8 x 6 = 48\n",
      "8 x 7 = 56\n",
      "8 x 8 = 64\n",
      "8 x 9 = 72\n",
      "8 x 10 = 80\n"
     ]
    }
   ],
   "source": [
    "num = 8\n",
    "\n",
    "for i in range(1, 11):\n",
    "    print(num, 'x', i, '=', num*i)"
   ]
  },
  {
   "cell_type": "markdown",
   "id": "ce9e2de0-21ea-4c60-9c14-17bc43f06f67",
   "metadata": {},
   "source": [
    "6. Write a program that counts the number of even and odd numbers in a list using a `for` loop."
   ]
  },
  {
   "cell_type": "code",
   "execution_count": 26,
   "id": "c68745d0-f9d6-43a4-bf89-c4f1f393652b",
   "metadata": {},
   "outputs": [
    {
     "name": "stdout",
     "output_type": "stream",
     "text": [
      "Even numbers in the list:  3\n",
      "Odd numbers in the list:  3\n"
     ]
    }
   ],
   "source": [
    "list1=[2,9,73,56,63,4]\n",
    "even_count,odd_count=0,0\n",
    "    \n",
    "for num in list1:\n",
    "        if num%2 == 0:\n",
    "            even_count += 1\n",
    "        else:\n",
    "            odd_count += 1\n",
    "print(\"Even numbers in the list: \", even_count)\n",
    "print(\"Odd numbers in the list: \", odd_count)\n"
   ]
  },
  {
   "cell_type": "markdown",
   "id": "28a52bfd-0b72-41e0-b533-504911265c4c",
   "metadata": {},
   "source": [
    "7. Develop a program that prints the squares of numbers from 1 to 5 using a `for` loop."
   ]
  },
  {
   "cell_type": "code",
   "execution_count": 2,
   "id": "9634aeb4-81fd-43a3-8b78-b1987bbaa823",
   "metadata": {},
   "outputs": [
    {
     "name": "stdout",
     "output_type": "stream",
     "text": [
      "0\n",
      "1\n",
      "4\n",
      "9\n",
      "16\n",
      "25\n"
     ]
    }
   ],
   "source": [
    "for i in range(0,6):\n",
    "    print(i*i)\n"
   ]
  },
  {
   "cell_type": "markdown",
   "id": "40ab4677-c898-4010-b45b-678226f21d14",
   "metadata": {},
   "source": [
    "8. Create a program to find the length of a string without using the `len()` function."
   ]
  },
  {
   "cell_type": "code",
   "execution_count": 4,
   "id": "72bc4896-0c30-4f29-a50c-263519e8ea84",
   "metadata": {},
   "outputs": [
    {
     "name": "stdout",
     "output_type": "stream",
     "text": [
      "the lengt of the string is:  9\n"
     ]
    }
   ],
   "source": [
    "def findlength(string):\n",
    "    count=0\n",
    "    for i in string:\n",
    "        count += 1\n",
    "    return count\n",
    "# Input string\n",
    "string = \"PW skills\"\n",
    "# Print the length\n",
    "print(\"the lengt of the string is: \",findlength(string))"
   ]
  },
  {
   "cell_type": "markdown",
   "id": "b56a731f-da05-4dcc-85f8-ce3ac26a04dd",
   "metadata": {},
   "source": [
    "9. Write a program that calculates the average of a list of numbers using a `for` loop."
   ]
  },
  {
   "cell_type": "code",
   "execution_count": 5,
   "id": "e029884f-e6e4-4d88-9063-66284df82f65",
   "metadata": {},
   "outputs": [
    {
     "name": "stdout",
     "output_type": "stream",
     "text": [
      "The average of the numbers is: 30.0\n"
     ]
    }
   ],
   "source": [
    "# List of numbers\n",
    "numbers = [10, 20, 30, 40, 50]\n",
    "\n",
    "# Initialize variables to store the sum and count\n",
    "total = 0\n",
    "count = 0\n",
    "\n",
    "# Calculate the sum of the numbers\n",
    "for number in numbers:\n",
    "    total += number\n",
    "    count += 1\n",
    "\n",
    "# Calculate the average\n",
    "if count > 0:\n",
    "    average = total / count\n",
    "    print(f\"The average of the numbers is: {average}\")\n",
    "else:\n",
    "    print(\"The list is empty, so the average cannot be calculated.\")\n"
   ]
  },
  {
   "cell_type": "markdown",
   "id": "24d605e3-fdf2-45db-9812-ed5b49cc2791",
   "metadata": {},
   "source": [
    "10. Develop a program that prints the first `n` Fibonacci numbers using a `for` loop"
   ]
  },
  {
   "cell_type": "code",
   "execution_count": 7,
   "id": "2e6d7260-e42c-4bad-a913-a5c0566ef67d",
   "metadata": {},
   "outputs": [
    {
     "name": "stdout",
     "output_type": "stream",
     "text": [
      "0 1 1 2 3 5 8 "
     ]
    }
   ],
   "source": [
    "def printFibonacciNumbers(n):\n",
    "    \n",
    "    f1=0\n",
    "    f2=1\n",
    "    if (n<1):\n",
    "        return\n",
    "    print(f1,end=\" \")\n",
    "    for x in range(1,n):\n",
    "        print(f2,end=\" \")\n",
    "        next=f1+f2\n",
    "        f1=f2\n",
    "        f2=next\n",
    "        \n",
    "printFibonacciNumbers(7)\n",
    "        "
   ]
  },
  {
   "cell_type": "markdown",
   "id": "901241b2-785c-4d1b-89fd-0e766d6802d3",
   "metadata": {},
   "source": [
    "11. Write a program to check if a given list contains any duplicates using a `for` loop."
   ]
  },
  {
   "cell_type": "code",
   "execution_count": 11,
   "id": "2cb947c9-94d5-499b-b497-be9fc71cda47",
   "metadata": {},
   "outputs": [
    {
     "name": "stdout",
     "output_type": "stream",
     "text": [
      "[1, 2, 4, 5, 6]\n"
     ]
    }
   ],
   "source": [
    "lis=[1,5,6,9,1,4,2,2,4,5,1,6,4,2,5,6,1,2,]\n",
    "\n",
    "uniquelist=[]\n",
    "duplicatelist=[]\n",
    "\n",
    "for i in lis:\n",
    "        if i not in uniquelist:\n",
    "            uniquelist.append(i)\n",
    "        elif i not in duplicatelist:\n",
    "            duplicatelist.append(i)\n",
    "            \n",
    "print(duplicatelist)\n",
    "            "
   ]
  },
  {
   "cell_type": "markdown",
   "id": "c8354784-3762-4972-b91e-97f2918bc276",
   "metadata": {},
   "source": [
    "12. Create a program that prints the prime numbers in a given range using a `for` loop."
   ]
  },
  {
   "cell_type": "code",
   "execution_count": 1,
   "id": "02475457-c7e1-43e2-926d-1f0f565f379e",
   "metadata": {},
   "outputs": [
    {
     "name": "stdout",
     "output_type": "stream",
     "text": [
      "2 3 5 7 11 13 17 19 23 29 31 37 41 43 47 53 59 61 67 71 73 79 83 89 97 "
     ]
    }
   ],
   "source": [
    "def isPrime(n):\n",
    "  #since 0 and 1 is not prime return false.\n",
    "  if(n==1 or n==0):\n",
    "    return False\n",
    "   \n",
    "  #Run a loop from 2 to n/2\n",
    "  for i in range(2,(n//2)+1):\n",
    "    #if the number is divisible by i, then n is not a prime number.\n",
    "    if(n%i==0):\n",
    "      return False\n",
    "   \n",
    "  #otherwise, n is prime number.\n",
    "  return True\n",
    " \n",
    " \n",
    " \n",
    "# Driver code\n",
    "N = 100;\n",
    "#check for every number from 1 to N\n",
    "for i in range(1,N+1):\n",
    "  #check if current number is prime\n",
    "  if(isPrime(i)):\n",
    "    print(i,end=\" \")\n",
    "\n"
   ]
  },
  {
   "cell_type": "markdown",
   "id": "ca7c8f9b-d6e4-4b5a-a429-44bd75fc7d56",
   "metadata": {},
   "source": [
    "13. Develop a program that counts the number of vowels in a string using a `for` loop."
   ]
  },
  {
   "cell_type": "code",
   "execution_count": 10,
   "id": "e778474d-62fd-4855-bfd4-204213024887",
   "metadata": {},
   "outputs": [
    {
     "name": "stdin",
     "output_type": "stream",
     "text": [
      "enter a string:  sandeep\n"
     ]
    },
    {
     "name": "stdout",
     "output_type": "stream",
     "text": [
      "3\n"
     ]
    }
   ],
   "source": [
    "string=input(\"enter a string: \")\n",
    "\n",
    "count=0\n",
    "\n",
    "vowels = [ 'a','e','i','o','u','A','E','I','O','U']\n",
    "\n",
    "for i in string:\n",
    "    if i in vowels:\n",
    "        count= count+1\n",
    "print(count)\n",
    " \n",
    "        "
   ]
  },
  {
   "cell_type": "markdown",
   "id": "8c0903f9-5160-45f3-abbe-b29d534cdbd2",
   "metadata": {},
   "source": [
    "14. Write a program to find the maximum element in a 2D list using a nested `for` loop."
   ]
  },
  {
   "cell_type": "code",
   "execution_count": 5,
   "id": "c845f2be-b5b7-4557-aa7b-5cae7852e692",
   "metadata": {},
   "outputs": [
    {
     "name": "stdout",
     "output_type": "stream",
     "text": [
      "the maximum element from the lis is:  63\n"
     ]
    }
   ],
   "source": [
    "#random 2d list\n",
    "matrix= [\n",
    "    [12,15,6,],\n",
    "    [2,16,21],\n",
    "    [63,4,24]\n",
    "]\n",
    "# Initialize a variable to store the maximum element, initially set to negative infinity\n",
    "max_element = float('-inf')\n",
    "\n",
    "# Iterate through the rows of the 2D list\n",
    "for row in matrix:\n",
    "  # Iterate through the elements in each row   \n",
    "    for element in row:\n",
    "        # Compare the current element with the current maximum \n",
    "        if element>max_element:\n",
    "            max_element = element\n",
    "       # Print the maximum element     \n",
    "print(\"the maximum element from the lis is: \", max_element)\n"
   ]
  },
  {
   "cell_type": "markdown",
   "id": "f65bfc84-4264-48fd-9366-a10ca554d575",
   "metadata": {},
   "source": [
    "15. Create a program that removes all occurrences of a specific element from a list using a `for` loop."
   ]
  },
  {
   "cell_type": "code",
   "execution_count": 23,
   "id": "0af138ee-d5a4-4e91-854a-585507375bb7",
   "metadata": {},
   "outputs": [
    {
     "name": "stdout",
     "output_type": "stream",
     "text": [
      "list after removing occurences of : 4 : [1, 2, 3, 5, 6, 7]\n"
     ]
    }
   ],
   "source": [
    "def element_remove(lst,element_to_remove):\n",
    "    \n",
    "    for item in lst[:]:\n",
    "        \n",
    "        if item==element_to_remove:\n",
    "            lst.remove(item)\n",
    "\n",
    "my_list=[1,2,3,4,5,4,6,7,4]\n",
    "element_to_remove=4\n",
    "\n",
    "element_remove(my_list,element_to_remove)\n",
    "\n",
    "print(\"list after removing occurences of :\", element_to_remove, \":\",my_list)    \n",
    "    \n"
   ]
  },
  {
   "cell_type": "markdown",
   "id": "a7993b71-2c18-4693-b7a3-4d4e52d107ef",
   "metadata": {},
   "source": [
    "16. Develop a program that generates a multiplication table for numbers from 1 to 5 using a nested `for` loop."
   ]
  },
  {
   "cell_type": "code",
   "execution_count": 30,
   "id": "416d2e93-67b7-40de-9bd8-e51b89458746",
   "metadata": {},
   "outputs": [
    {
     "name": "stdout",
     "output_type": "stream",
     "text": [
      " 1 x 10 =10 \n",
      " 2 x 10 =20 \n",
      " 3 x 10 =30 \n",
      " 4 x 10 =40 \n",
      " 5 x 10 =50 \n"
     ]
    }
   ],
   "source": [
    "start=1\n",
    "end=5\n",
    "\n",
    "for i in range(start,end+1):\n",
    "    for j in range (1,11):\n",
    "         result = i*j\n",
    "    print(f\" {i} x {j} ={result} \")"
   ]
  },
  {
   "cell_type": "markdown",
   "id": "1a08dfcb-7950-48d0-99b2-b7eafa10c11a",
   "metadata": {},
   "source": [
    "17. Write a program that converts a list of Fahrenheit temperatures to Celsius using a `for` loop."
   ]
  },
  {
   "cell_type": "code",
   "execution_count": 33,
   "id": "19198480-b9a9-400c-96ce-da0a2f2f19a0",
   "metadata": {},
   "outputs": [
    {
     "name": "stdout",
     "output_type": "stream",
     "text": [
      "34°F is equal to 1.11°C\n",
      "56°F is equal to 13.33°C\n",
      "85°F is equal to 29.44°C\n",
      "41°F is equal to 5.00°C\n",
      "23°F is equal to -5.00°C\n"
     ]
    }
   ],
   "source": [
    "fahrenheit_tempreture = [34,56,85,41,23]\n",
    "\n",
    "celsius_tempreture= []\n",
    "\n",
    "for fahrenheit in fahrenheit_tempreture:\n",
    "    celsius = (fahrenheit-32)*5/9\n",
    "    celsius_tempreture.append(celsius)\n",
    "    \n",
    "    \n",
    "for i in range(len(fahrenheit_tempreture)):\n",
    "    print(f\"{fahrenheit_tempreture[i]}°F is equal to {celsius_tempreture[i]:.2f}°C\")\n"
   ]
  },
  {
   "cell_type": "markdown",
   "id": "843823f3-68e8-40dd-875e-8b601e4a1c7a",
   "metadata": {},
   "source": [
    "18. Create a program to print the common elements from two lists using a `for` loop."
   ]
  },
  {
   "cell_type": "code",
   "execution_count": 2,
   "id": "3e66ed9d-3c56-47af-b4cc-59cd4db9d03b",
   "metadata": {},
   "outputs": [
    {
     "name": "stdout",
     "output_type": "stream",
     "text": [
      "common elements: [4, 5, 6]\n"
     ]
    }
   ],
   "source": [
    "list1=[1,2,3,4,5,6]\n",
    "list2=[4,5,6,7,8,9]\n",
    "\n",
    "common_elements=[]\n",
    "\n",
    "for element in list1:\n",
    "    \n",
    "    if element in list2:\n",
    "        common_elements.append(element)\n",
    "    \n",
    "print(\"common elements:\", common_elements)"
   ]
  },
  {
   "cell_type": "markdown",
   "id": "81bdc2d3-0f40-407e-98e3-7e4f8b486e42",
   "metadata": {},
   "source": [
    "19. Develop a program that prints the pattern of right-angled triangles using a `for` loop. Use ‘*’ to draw the\n",
    "pattern"
   ]
  },
  {
   "cell_type": "code",
   "execution_count": 5,
   "id": "f6cdea62-2dbf-4d5f-80c5-069032de4bff",
   "metadata": {},
   "outputs": [
    {
     "name": "stdout",
     "output_type": "stream",
     "text": [
      "*\n",
      "**\n",
      "***\n",
      "****\n",
      "*****\n"
     ]
    }
   ],
   "source": [
    "rows=5\n",
    "\n",
    "for i in range(1,rows+1):\n",
    "    \n",
    "    for j in range(i):\n",
    "        print('*' , end='')\n",
    "        \n",
    "    print()"
   ]
  },
  {
   "cell_type": "markdown",
   "id": "4b2ec356-b92c-4be5-af63-b29eaab32450",
   "metadata": {},
   "source": [
    "20. Write a program to find the greatest common divisor (GCD) of two numbers using a `for` loop"
   ]
  },
  {
   "cell_type": "code",
   "execution_count": 6,
   "id": "0dfce4b8-5127-4209-b2c2-5b7611833428",
   "metadata": {},
   "outputs": [
    {
     "name": "stdin",
     "output_type": "stream",
     "text": [
      "Enter the first number:  45\n",
      "Enter the second number:  65\n"
     ]
    },
    {
     "name": "stdout",
     "output_type": "stream",
     "text": [
      "GCD of 45 and 65 is 5\n"
     ]
    }
   ],
   "source": [
    "# Function to find the GCD of two numbers using a for loop\n",
    "def find_gcd(a, b):\n",
    "    if a < b:\n",
    "        a, b = b, a  # Swap the numbers if the first number is smaller\n",
    "    for i in range(b, 0, -1):  # Start from the smaller number and count down to 1\n",
    "        if a % i == 0 and b % i == 0:\n",
    "            return i  # Return the first common divisor found\n",
    "\n",
    "# Input two numbers from the user\n",
    "num1 = int(input(\"Enter the first number: \"))\n",
    "num2 = int(input(\"Enter the second number: \"))\n",
    "\n",
    "# Calculate and print the GCD\n",
    "gcd = find_gcd(num1, num2)\n",
    "print(\"GCD of\", num1, \"and\", num2, \"is\", gcd)\n"
   ]
  },
  {
   "cell_type": "markdown",
   "id": "c4ce45f9-5098-4b6a-bfee-6e2fba2f17d5",
   "metadata": {},
   "source": [
    "21. Create a program that calculates the sum of the digits of numbers in a list using a list comprehension."
   ]
  },
  {
   "cell_type": "code",
   "execution_count": 7,
   "id": "20209b09-def4-43e8-bd29-8b8d1fb74c88",
   "metadata": {},
   "outputs": [
    {
     "name": "stdout",
     "output_type": "stream",
     "text": [
      "Sum of digits in 123 is 6\n",
      "Sum of digits in 456 is 15\n",
      "Sum of digits in 789 is 24\n",
      "Sum of digits in 12 is 3\n",
      "Sum of digits in 34 is 7\n",
      "Sum of digits in 567 is 18\n"
     ]
    }
   ],
   "source": [
    "# Function to calculate the sum of the digits of a number\n",
    "def sum_of_digits(number):\n",
    "    return sum(int(digit) for digit in str(number))\n",
    "\n",
    "# List of numbers\n",
    "numbers = [123, 456, 789, 12, 34, 567]\n",
    "\n",
    "# Calculate the sum of digits using list comprehension\n",
    "digit_sums = [sum_of_digits(num) for num in numbers]\n",
    "\n",
    "# Print the results\n",
    "for i in range(len(numbers)):\n",
    "    print(f\"Sum of digits in {numbers[i]} is {digit_sums[i]}\")\n"
   ]
  },
  {
   "cell_type": "markdown",
   "id": "a02cafa9-e5b8-4c19-8b49-fba1d9d20831",
   "metadata": {},
   "source": [
    "22. Write a program to find the prime factors of a given number using a `for` loop and list comprehension."
   ]
  },
  {
   "cell_type": "code",
   "execution_count": 8,
   "id": "d3dc802b-ac62-4b8e-be5b-473b501f5f70",
   "metadata": {},
   "outputs": [
    {
     "name": "stdin",
     "output_type": "stream",
     "text": [
      "Enter a number:  45\n"
     ]
    },
    {
     "name": "stdout",
     "output_type": "stream",
     "text": [
      "Prime factors of 45 are: [3, 3, 5]\n"
     ]
    }
   ],
   "source": [
    "# Function to find prime factors of a number\n",
    "def prime_factors(n):\n",
    "    factors = []\n",
    "    divisor = 2\n",
    "    while divisor <= n:\n",
    "        if n % divisor == 0:\n",
    "            factors.append(divisor)\n",
    "            n //= divisor\n",
    "        else:\n",
    "            divisor += 1\n",
    "    return factors\n",
    "\n",
    "# Input a number from the user\n",
    "number = int(input(\"Enter a number: \"))\n",
    "\n",
    "# Find the prime factors using the function\n",
    "factors = prime_factors(number)\n",
    "\n",
    "# Print the result\n",
    "if len(factors) == 0 or number == 1:\n",
    "    print(f\"No prime factors for {number}\")\n",
    "else:\n",
    "    print(f\"Prime factors of {number} are: {factors}\")\n"
   ]
  },
  {
   "cell_type": "markdown",
   "id": "10e00efc-a3b2-402c-b3d9-986a42d797f1",
   "metadata": {},
   "source": [
    "23. Develop a program that extracts unique elements from a list and stores them in a new list using a list\n",
    "comprehension."
   ]
  },
  {
   "cell_type": "code",
   "execution_count": 9,
   "id": "48cb7e80-cac7-4eae-b82c-4e8246897c95",
   "metadata": {},
   "outputs": [
    {
     "name": "stdout",
     "output_type": "stream",
     "text": [
      "Original List: [1, 2, 2, 3, 4, 4, 5, 6, 6]\n",
      "Unique List: [1, 2, 3, 4, 5, 6]\n"
     ]
    }
   ],
   "source": [
    "# Original list with duplicate elements\n",
    "original_list = [1, 2, 2, 3, 4, 4, 5, 6, 6]\n",
    "\n",
    "# List comprehension to extract unique elements\n",
    "unique_list = [x for i, x in enumerate(original_list) if x not in original_list[:i]]\n",
    "\n",
    "# Print the unique elements\n",
    "print(\"Original List:\", original_list)\n",
    "print(\"Unique List:\", unique_list)\n"
   ]
  },
  {
   "cell_type": "markdown",
   "id": "1f2423d3-30fe-44dc-aa5e-c949ae1efcf1",
   "metadata": {},
   "source": [
    "24. Create a program that generates a list of all palindromic numbers up to a specified limit using a list\n",
    "comprehension."
   ]
  },
  {
   "cell_type": "code",
   "execution_count": 4,
   "id": "5c5a3c14-66cb-4dd0-92f0-fa87a013c7d3",
   "metadata": {},
   "outputs": [
    {
     "name": "stdout",
     "output_type": "stream",
     "text": [
      "Palindromic numbers up to 500: [0, 1, 2, 3, 4, 5, 6, 7, 8, 9, 11, 22, 33, 44, 55, 66, 77, 88, 99, 101, 111, 121, 131, 141, 151, 161, 171, 181, 191, 202, 212, 222, 232, 242, 252, 262, 272, 282, 292, 303, 313, 323, 333, 343, 353, 363, 373, 383, 393, 404, 414, 424, 434, 444, 454, 464, 474, 484, 494]\n"
     ]
    }
   ],
   "source": [
    " def is_palindrome(num):\n",
    "    return str(num) == str(num)[::-1]\n",
    "\n",
    "def generate_palindromic_numbers(limit):\n",
    "    return [num for num in range(limit + 1) if is_palindrome(num)]\n",
    "\n",
    "# Example: Generate palindromic numbers up to 1000\n",
    "limit = 500\n",
    "palindromic_numbers = generate_palindromic_numbers(limit)\n",
    "\n",
    "print(\"Palindromic numbers up to {}: {}\".format(limit, palindromic_numbers))\n"
   ]
  },
  {
   "cell_type": "markdown",
   "id": "7cd26d4b-a6dd-455a-bec3-0c5ce95c3d47",
   "metadata": {},
   "source": [
    "25. Write a program to flatten a nested list using list comprehension"
   ]
  },
  {
   "cell_type": "code",
   "execution_count": 5,
   "id": "0639e7c0-f15e-4c89-a661-4e8fbf609762",
   "metadata": {},
   "outputs": [
    {
     "name": "stdout",
     "output_type": "stream",
     "text": [
      "List [[11, 22, 33, 44], [55, 66, 77], [88, 99, 100]]\n",
      "Flat List [11, 22, 33, 44, 55, 66, 77, 88, 99, 100]\n"
     ]
    }
   ],
   "source": [
    "# Original list\n",
    "lis = [[11, 22, 33, 44], [55, 66, 77], [88, 99, 100]]\n",
    "\n",
    "# iterate through the sublist using List comprehension\n",
    "flatList = [element for innerList in lis for element in innerList]\n",
    "\n",
    "# printing original list\n",
    "print('List', lis)\n",
    "# printing flat list\n",
    "print('Flat List', flatList)\n"
   ]
  },
  {
   "cell_type": "markdown",
   "id": "3b1ef4ce-221a-4198-9534-0203caf36724",
   "metadata": {},
   "source": [
    "26. Develop a program that computes the sum of even and odd numbers in a list separately using list\n",
    "comprehension."
   ]
  },
  {
   "cell_type": "code",
   "execution_count": 6,
   "id": "c9cb67f1-0114-4e55-a5f9-a89e1c941893",
   "metadata": {},
   "outputs": [
    {
     "name": "stdout",
     "output_type": "stream",
     "text": [
      "Even numbers in the list:  3\n",
      "Odd numbers in the list:  4\n"
     ]
    }
   ],
   "source": [
    "# list of numbers\n",
    "list1 = [10, 21, 4, 45, 66, 93, 11]\n",
    "\n",
    "only_odd = [num for num in list1 if num % 2 == 1]\n",
    "odd_count = len(only_odd)\n",
    "\n",
    "print(\"Even numbers in the list: \", len(list1) - odd_count)\n",
    "print(\"Odd numbers in the list: \", odd_count)\n"
   ]
  },
  {
   "cell_type": "markdown",
   "id": "10fcc16c-ae30-4314-9a11-f3db2e584acf",
   "metadata": {},
   "source": [
    "27. Create a program that generates a list of squares of odd numbers between 1 and 10 using list\n",
    "comprehension."
   ]
  },
  {
   "cell_type": "code",
   "execution_count": 7,
   "id": "ce66c518-7a5e-4db9-8db4-b8edc9fa612a",
   "metadata": {},
   "outputs": [
    {
     "name": "stdout",
     "output_type": "stream",
     "text": [
      "[1, 9, 25, 49, 81]\n"
     ]
    }
   ],
   "source": [
    "data=[1,2,3,4,5,6,7,8,9,10]\n",
    "\n",
    "result= [i*i for i in data if i%2!=0]\n",
    "\n",
    "print(result)"
   ]
  },
  {
   "cell_type": "markdown",
   "id": "59997e16-2e68-4cd5-a76c-8134fd95c829",
   "metadata": {},
   "source": [
    "28. Write a program that combines two lists into a dictionary using list comprehension."
   ]
  },
  {
   "cell_type": "code",
   "execution_count": 9,
   "id": "8967c143-5041-49d0-916d-d4af476621c6",
   "metadata": {},
   "outputs": [
    {
     "name": "stdout",
     "output_type": "stream",
     "text": [
      "original list1 is: ['sandeep', 'harish', 'kisan', 'ram']\n",
      "original list2 is: [1, 2, 3, 4, 5]\n",
      "new dictionary is: {'sandeep': 1, 'harish': 2, 'kisan': 3, 'ram': 4}\n"
     ]
    }
   ],
   "source": [
    "# initializing lists\n",
    "list1=[\"sandeep\",\"harish\",\"kisan\",\"ram\"]\n",
    "list2=[1,2,3,4,5]\n",
    "# Printing original keys-value lists\n",
    "print(\"original list1 is: \" +str(list1))\n",
    "print(\"original list2 is: \" +str(list2))\n",
    "\n",
    "# using dictionary comprehension\n",
    "# to convert lists to dictionary\n",
    "\n",
    "result={list1[i]:list2[i] for i in range (len(list1))}\n",
    "\n",
    "# Printing resultant dictionary\n",
    "print(\"new dictionary is: \" +str(result))"
   ]
  },
  {
   "cell_type": "markdown",
   "id": "c705d544-113d-425b-a2c7-504fee85cb1c",
   "metadata": {},
   "source": [
    "29. Develop a program that extracts the vowels from a string and stores them in a list using list comprehension."
   ]
  },
  {
   "cell_type": "code",
   "execution_count": 13,
   "id": "350f8b71-7197-40df-8d26-b9830b820bab",
   "metadata": {},
   "outputs": [
    {
     "name": "stdin",
     "output_type": "stream",
     "text": [
      "Enter a string:  sandeep kumar SAhu\n"
     ]
    },
    {
     "name": "stdout",
     "output_type": "stream",
     "text": [
      "Vowels in the string: ['a', 'e', 'e', 'u', 'a', 'a', 'u']\n"
     ]
    }
   ],
   "source": [
    "string = input(\"Enter a string: \")\n",
    "\n",
    "# Convert the string to lowercase\n",
    "string = string.lower()\n",
    "\n",
    "# Use list comprehension to find vowels\n",
    "vowels = [i for i in string if i in ('a', 'e', 'i', 'o', 'u')]\n",
    "\n",
    "print(\"Vowels in the string:\", vowels)\n"
   ]
  },
  {
   "cell_type": "markdown",
   "id": "bebe720c-7dd4-46bb-9ea5-780ffb983135",
   "metadata": {},
   "source": [
    "30. Create a program that removes all non-numeric characters from a list of strings using list comprehension."
   ]
  },
  {
   "cell_type": "code",
   "execution_count": 14,
   "id": "5daa6620-ea5c-42ad-a526-ca976b56a64b",
   "metadata": {},
   "outputs": [
    {
     "name": "stdout",
     "output_type": "stream",
     "text": [
      "Original List: ['abc123', '45xyz', '678', 'no789']\n",
      "List with Non-Numeric Characters Removed: ['123', '45', '678', '789']\n"
     ]
    }
   ],
   "source": [
    "def remove_non_numeric(strings):\n",
    "    return [''.join(char for char in s if char.isnumeric()) for s in strings]\n",
    "\n",
    "# Example usage:\n",
    "input_strings = ['abc123', '45xyz', '678', 'no789']\n",
    "\n",
    "result = remove_non_numeric(input_strings)\n",
    "\n",
    "print(\"Original List:\", input_strings)\n",
    "print(\"List with Non-Numeric Characters Removed:\", result)\n"
   ]
  },
  {
   "cell_type": "markdown",
   "id": "f175ab3f-1df5-4707-8fc6-38be2df13794",
   "metadata": {},
   "source": [
    "31. Write a program to generate a list of prime numbers using the Sieve of Eratosthenes algorithm and list\n",
    "comprehension."
   ]
  },
  {
   "cell_type": "code",
   "execution_count": 15,
   "id": "2def0b89-541d-4df5-a154-6c169031437b",
   "metadata": {},
   "outputs": [
    {
     "name": "stdout",
     "output_type": "stream",
     "text": [
      "Prime numbers up to 50: [2, 3, 5, 7, 11, 13, 17, 19, 23, 29, 31, 37, 41, 43, 47]\n"
     ]
    }
   ],
   "source": [
    "def sieve_of_eratosthenes(limit):\n",
    "    primes = [True] * (limit + 1)\n",
    "    primes[0] = primes[1] = False\n",
    "\n",
    "    for num in range(2, int(limit**0.5) + 1):\n",
    "        if primes[num]:\n",
    "            primes[num*num : limit + 1 : num] = [False] * len(primes[num*num : limit + 1 : num])\n",
    "\n",
    "    return [num for num, is_prime in enumerate(primes) if is_prime]\n",
    "\n",
    "# Example usage:\n",
    "limit = 50\n",
    "prime_numbers = sieve_of_eratosthenes(limit)\n",
    "\n",
    "print(\"Prime numbers up to {}: {}\".format(limit, prime_numbers))\n"
   ]
  },
  {
   "cell_type": "markdown",
   "id": "275b7dc6-60f8-4bdd-9415-f1d0d843928d",
   "metadata": {},
   "source": [
    "32. Create a program that generates a list of all Pythagorean triplets up to a specified limit using list\n",
    "comprehension."
   ]
  },
  {
   "cell_type": "code",
   "execution_count": 16,
   "id": "82762702-1773-4df7-a0de-b76ddbeea6e8",
   "metadata": {},
   "outputs": [
    {
     "name": "stdout",
     "output_type": "stream",
     "text": [
      "Pythagorean triplets up to 20: [(3, 4, 5), (5, 12, 13), (6, 8, 10), (8, 15, 17), (9, 12, 15), (12, 16, 20)]\n"
     ]
    }
   ],
   "source": [
    "def generate_pythagorean_triplets(limit):\n",
    "    triplets = [(a, b, c) for a in range(1, limit + 1) for b in range(a, limit + 1) for c in range(b, limit + 1) if a**2 + b**2 == c**2]\n",
    "    return triplets\n",
    "\n",
    "# Example usage:\n",
    "limit = 20\n",
    "pythagorean_triplets = generate_pythagorean_triplets(limit)\n",
    "\n",
    "print(\"Pythagorean triplets up to {}: {}\".format(limit, pythagorean_triplets))\n"
   ]
  },
  {
   "cell_type": "markdown",
   "id": "71322bc9-0769-4fa6-bda5-feeab0f5e71b",
   "metadata": {},
   "source": [
    "33. Develop a program that generates a list of all possible combinations of two lists using list comprehension"
   ]
  },
  {
   "cell_type": "code",
   "execution_count": 17,
   "id": "53325f6e-7a62-44c5-b3d7-df5f0c174f2b",
   "metadata": {},
   "outputs": [
    {
     "name": "stdout",
     "output_type": "stream",
     "text": [
      "All possible combinations:\n",
      "(1, 'a')\n",
      "(1, 'b')\n",
      "(1, 'c')\n",
      "(2, 'a')\n",
      "(2, 'b')\n",
      "(2, 'c')\n",
      "(3, 'a')\n",
      "(3, 'b')\n",
      "(3, 'c')\n"
     ]
    }
   ],
   "source": [
    "def generate_combinations(list1, list2):\n",
    "    return [(item1, item2) for item1 in list1 for item2 in list2]\n",
    "\n",
    "# Example usage:\n",
    "list1 = [1, 2, 3]\n",
    "list2 = ['a', 'b', 'c']\n",
    "\n",
    "combinations = generate_combinations(list1, list2)\n",
    "\n",
    "print(\"All possible combinations:\")\n",
    "for combination in combinations:\n",
    "    print(combination)\n"
   ]
  },
  {
   "cell_type": "markdown",
   "id": "24fe8c64-5c18-43d0-a454-6a1bfc830e7e",
   "metadata": {},
   "source": [
    "34. Write a program that calculates the mean, median, and mode of a list of numbers using list\n",
    "comprehension."
   ]
  },
  {
   "cell_type": "code",
   "execution_count": 18,
   "id": "71038ee2-0902-4171-b07b-b00343940ffc",
   "metadata": {},
   "outputs": [
    {
     "name": "stdout",
     "output_type": "stream",
     "text": [
      "Original List: [2, 4, 4, 4, 5, 5, 7, 9]\n",
      "Mean: 5\n",
      "Median: 4.5\n",
      "Mode: 4\n"
     ]
    }
   ],
   "source": [
    "from statistics import mean, median, mode\n",
    "\n",
    "# Example list of numbers\n",
    "numbers = [2, 4, 4, 4, 5, 5, 7, 9]\n",
    "\n",
    "# Mean using list comprehension\n",
    "mean_value = mean(numbers)\n",
    "\n",
    "# Median using list comprehension\n",
    "sorted_numbers = sorted(numbers)\n",
    "n = len(sorted_numbers)\n",
    "median_value = (sorted_numbers[n//2] + sorted_numbers[(n-1)//2]) / 2\n",
    "\n",
    "# Mode using statistics module\n",
    "try:\n",
    "    mode_value = mode(numbers)\n",
    "except StatisticsError:\n",
    "    mode_value = \"No mode\"\n",
    "\n",
    "# Print results\n",
    "print(\"Original List:\", numbers)\n",
    "print(\"Mean:\", mean_value)\n",
    "print(\"Median:\", median_value)\n",
    "print(\"Mode:\", mode_value)\n"
   ]
  },
  {
   "cell_type": "markdown",
   "id": "b6fa2de3-6508-4407-bdf8-4b018c159b48",
   "metadata": {},
   "source": [
    "35. Create a program that generates Pascal's triangle up to a specified number of rows using list\n",
    "comprehension."
   ]
  },
  {
   "cell_type": "code",
   "execution_count": 19,
   "id": "4f876d5a-7e14-459f-8be1-7103b4e6378f",
   "metadata": {},
   "outputs": [
    {
     "name": "stdout",
     "output_type": "stream",
     "text": [
      "Pascal's Triangle up to 6 rows:\n",
      "[1, 2, 1]\n",
      "[1, 2, 2, 1]\n",
      "[1, 2, 3, 3, 1]\n",
      "[1, 2, 3, 5, 4, 1]\n",
      "[1, 2, 3, 5, 7, 5, 1]\n",
      "[1, 2, 3, 5, 7, 9, 6, 1]\n"
     ]
    }
   ],
   "source": [
    "def generate_pascals_triangle(rows):\n",
    "    triangle = [[1] + [sum(pair) for pair in zip(row, row[1:])] + [1] for row in\n",
    "                [[1] + [n for n in range(1, i)] + [1] for i in range(1, rows + 1)]]\n",
    "    return triangle\n",
    "\n",
    "def print_pascals_triangle(triangle):\n",
    "    for row in triangle:\n",
    "        print(row)\n",
    "\n",
    "# Example usage:\n",
    "num_rows = 6\n",
    "pascals_triangle = generate_pascals_triangle(num_rows)\n",
    "\n",
    "print(\"Pascal's Triangle up to {} rows:\".format(num_rows))\n",
    "print_pascals_triangle(pascals_triangle)\n"
   ]
  },
  {
   "cell_type": "markdown",
   "id": "2fc61b41-5225-4460-8b23-92546f320278",
   "metadata": {},
   "source": [
    "36. Develop a program that calculates the sum of the digits of a factorial of numbers from 1 to 5 using list\n",
    "comprehension."
   ]
  },
  {
   "cell_type": "code",
   "execution_count": 20,
   "id": "653305c3-28f5-4b12-8281-b639ec84e139",
   "metadata": {},
   "outputs": [
    {
     "name": "stdout",
     "output_type": "stream",
     "text": [
      "The sum of the digits of 1! is 1\n",
      "The sum of the digits of 2! is 2\n",
      "The sum of the digits of 3! is 6\n",
      "The sum of the digits of 4! is 6\n",
      "The sum of the digits of 5! is 3\n"
     ]
    }
   ],
   "source": [
    "from math import factorial\n",
    "\n",
    "def sum_of_digits(n):\n",
    "    return sum(int(digit) for digit in str(n))\n",
    "\n",
    "# Calculate factorial and sum of digits using list comprehension\n",
    "factorial_sums = [sum_of_digits(factorial(num)) for num in range(1, 6)]\n",
    "\n",
    "# Print results\n",
    "for num, factorial_sum in zip(range(1, 6), factorial_sums):\n",
    "    print(f\"The sum of the digits of {num}! is {factorial_sum}\")\n"
   ]
  },
  {
   "cell_type": "markdown",
   "id": "b10bd6a5-35e5-4366-b58b-fbe2c01e7b39",
   "metadata": {},
   "source": [
    "37. Write a program that finds the longest word in a sentence using list comprehension."
   ]
  },
  {
   "cell_type": "code",
   "execution_count": 21,
   "id": "cfff6fd2-cd7f-4fc4-9f0b-123c06d613a1",
   "metadata": {},
   "outputs": [
    {
     "name": "stdout",
     "output_type": "stream",
     "text": [
      "Input Sentence: This is a sample sentence to find the longest word.\n",
      "Longest Word: sentence\n"
     ]
    }
   ],
   "source": [
    "def find_longest_word(sentence):\n",
    "    words = sentence.split()\n",
    "    longest_word = max(words, key=lambda word: len(word))\n",
    "    return longest_word\n",
    "\n",
    "# Example usage:\n",
    "input_sentence = \"This is a sample sentence to find the longest word.\"\n",
    "\n",
    "longest_word = find_longest_word(input_sentence)\n",
    "\n",
    "print(\"Input Sentence:\", input_sentence)\n",
    "print(\"Longest Word:\", longest_word)\n"
   ]
  },
  {
   "cell_type": "markdown",
   "id": "43e1aada-bb45-4e19-b134-b2d27430659b",
   "metadata": {},
   "source": [
    "38. Create a program that filters a list of strings to include only those with more than three vowels using list\n",
    "comprehension."
   ]
  },
  {
   "cell_type": "code",
   "execution_count": 22,
   "id": "b49cbe4a-dd11-4d69-b1a8-8c287f5f078f",
   "metadata": {},
   "outputs": [
    {
     "name": "stdout",
     "output_type": "stream",
     "text": [
      "Original List of Strings: ['hello', 'world', 'python', 'programming', 'example']\n",
      "Filtered List (more than 3 vowels): []\n"
     ]
    }
   ],
   "source": [
    "def count_vowels(word):\n",
    "    return sum(1 for char in word if char.lower() in 'aeiou')\n",
    "\n",
    "def filter_strings_by_vowels(strings, min_vowels=3):\n",
    "    return [s for s in strings if count_vowels(s) > min_vowels]\n",
    "\n",
    "# Example usage:\n",
    "input_strings = [\"hello\", \"world\", \"python\", \"programming\", \"example\"]\n",
    "\n",
    "filtered_strings = filter_strings_by_vowels(input_strings, min_vowels=3)\n",
    "\n",
    "print(\"Original List of Strings:\", input_strings)\n",
    "print(\"Filtered List (more than 3 vowels):\", filtered_strings)\n"
   ]
  },
  {
   "cell_type": "markdown",
   "id": "5a72b418-6eb4-4c02-8646-72c45c7f7de4",
   "metadata": {},
   "source": [
    "39. Develop a program that calculates the sum of the digits of numbers from 1 to 1000 using list\n",
    "comprehension."
   ]
  },
  {
   "cell_type": "code",
   "execution_count": 26,
   "id": "ed3dc841-b833-4a8b-a78c-b7c33671f984",
   "metadata": {},
   "outputs": [
    {
     "name": "stdout",
     "output_type": "stream",
     "text": [
      "The sum of the digits of 1 is 1\n",
      "The sum of the digits of 2 is 2\n",
      "The sum of the digits of 3 is 3\n",
      "The sum of the digits of 4 is 4\n",
      "The sum of the digits of 5 is 5\n",
      "The sum of the digits of 6 is 6\n",
      "The sum of the digits of 7 is 7\n",
      "The sum of the digits of 8 is 8\n",
      "The sum of the digits of 9 is 9\n",
      "The sum of the digits of 10 is 1\n",
      "The sum of the digits of 11 is 2\n",
      "The sum of the digits of 12 is 3\n",
      "The sum of the digits of 13 is 4\n",
      "The sum of the digits of 14 is 5\n",
      "The sum of the digits of 15 is 6\n",
      "The sum of the digits of 16 is 7\n",
      "The sum of the digits of 17 is 8\n",
      "The sum of the digits of 18 is 9\n",
      "The sum of the digits of 19 is 10\n"
     ]
    }
   ],
   "source": [
    "def sum_of_digits(n):\n",
    "    return sum(int(digit) for digit in str(n))\n",
    "\n",
    "# Calculate sum of digits using list comprehension for numbers from 1 to 1000\n",
    "digit_sums = [sum_of_digits(num) for num in range(1, 20)]\n",
    "\n",
    "# Print the sum of digits for each number\n",
    "for num, digit_sum in zip(range(1, 1001), digit_sums):\n",
    "    print(f\"The sum of the digits of {num} is {digit_sum}\")\n",
    "\n"
   ]
  },
  {
   "cell_type": "markdown",
   "id": "29fd8682-e930-4435-a907-63c2401e20ff",
   "metadata": {},
   "source": [
    "40. Write a program that generates a list of prime palindromic numbers using list comprehension."
   ]
  },
  {
   "cell_type": "code",
   "execution_count": 27,
   "id": "1bb15faa-d61f-458a-8dfe-58a19c72b911",
   "metadata": {},
   "outputs": [
    {
     "name": "stdout",
     "output_type": "stream",
     "text": [
      "Prime Palindromic numbers up to 1000: [2, 3, 5, 7, 11, 101, 131, 151, 181, 191, 313, 353, 373, 383, 727, 757, 787, 797, 919, 929]\n"
     ]
    }
   ],
   "source": [
    "def is_prime(num):\n",
    "    if num < 2:\n",
    "        return False\n",
    "    for i in range(2, int(num**0.5) + 1):\n",
    "        if num % i == 0:\n",
    "            return False\n",
    "    return True\n",
    "\n",
    "def is_palindrome(num):\n",
    "    return str(num) == str(num)[::-1]\n",
    "\n",
    "# Generate a list of prime palindromic numbers using list comprehension\n",
    "limit = 1000\n",
    "prime_palindromes = [num for num in range(limit + 1) if is_prime(num) and is_palindrome(num)]\n",
    "\n",
    "# Print the list of prime palindromic numbers\n",
    "print(\"Prime Palindromic numbers up to {}: {}\".format(limit, prime_palindromes))\n"
   ]
  }
 ],
 "metadata": {
  "kernelspec": {
   "display_name": "Python 3 (ipykernel)",
   "language": "python",
   "name": "python3"
  },
  "language_info": {
   "codemirror_mode": {
    "name": "ipython",
    "version": 3
   },
   "file_extension": ".py",
   "mimetype": "text/x-python",
   "name": "python",
   "nbconvert_exporter": "python",
   "pygments_lexer": "ipython3",
   "version": "3.10.8"
  }
 },
 "nbformat": 4,
 "nbformat_minor": 5
}
